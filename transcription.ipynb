{
  "nbformat": 4,
  "nbformat_minor": 0,
  "metadata": {
    "colab": {
      "provenance": [],
      "authorship_tag": "ABX9TyMxb0W/7mc0l9MF6PyHDxtH",
      "include_colab_link": true
    },
    "kernelspec": {
      "name": "python3",
      "display_name": "Python 3"
    },
    "language_info": {
      "name": "python"
    }
  },
  "cells": [
    {
      "cell_type": "markdown",
      "metadata": {
        "id": "view-in-github",
        "colab_type": "text"
      },
      "source": [
        "<a href=\"https://colab.research.google.com/github/aaryapandya12/youtube-transcription/blob/main/transcription.ipynb\" target=\"_parent\"><img src=\"https://colab.research.google.com/assets/colab-badge.svg\" alt=\"Open In Colab\"/></a>"
      ]
    },
    {
      "cell_type": "code",
      "source": [
        "import os\n",
        "import tempfile\n",
        "from yt_dlp import YoutubeDL\n",
        "import whisper\n",
        "\n",
        "MODEL_SIZE = \"base\"\n",
        "AUDIO_FORMAT = \"wav\"\n",
        "\n",
        "def download_audio(url: str) -> str:\n",
        "    \"\"\"Download YouTube audio and return local path.\"\"\"\n",
        "    audio_path = tempfile.mktemp(suffix=f\".{AUDIO_FORMAT}\")\n",
        "\n",
        "    ydl_opts = {\n",
        "        \"format\": \"bestaudio/best\",\n",
        "        \"outtmpl\": audio_path.replace(f\".{AUDIO_FORMAT}\", \".%(ext)s\"),\n",
        "        \"postprocessors\": [{\n",
        "            \"key\": \"FFmpegExtractAudio\",\n",
        "            \"preferredcodec\": AUDIO_FORMAT,\n",
        "            \"preferredquality\": \"192\",\n",
        "        }],\n",
        "        \"quiet\": True,\n",
        "        \"no_warnings\": True,\n",
        "    }\n",
        "\n",
        "    with YoutubeDL(ydl_opts) as ydl:\n",
        "        ydl.download([url])\n",
        "\n",
        "    return audio_path\n",
        "\n",
        "def transcribe_audio(path: str, with_timestamps: bool = False) -> str:\n",
        "    \"\"\"Transcribe audio and return formatted text.\"\"\"\n",
        "    model = whisper.load_model(MODEL_SIZE)\n",
        "    result = model.transcribe(path, verbose=False)\n",
        "\n",
        "    output = []\n",
        "    for seg in result['segments']:\n",
        "        text = seg['text'].strip()\n",
        "        if with_timestamps:\n",
        "            output.append(f\"[{seg['start']:.2f}-{seg['end']:.2f}] {text}\")\n",
        "        else:\n",
        "            output.append(text)\n",
        "\n",
        "    return \"\\n\".join(output)\n",
        "\n",
        "def main():\n",
        "    video_url = input(\"YouTube URL: \").strip()\n",
        "    with_timestamps = input(\"⏱️ Include timestamps? (y/n): \").lower() == \"y\"\n",
        "\n",
        "    try:\n",
        "        print(\"Downloading audio...\")\n",
        "        audio_path = download_audio(video_url)\n",
        "\n",
        "        print(\"Transcribing...\")\n",
        "        transcript = transcribe_audio(audio_path, with_timestamps)\n",
        "\n",
        "        print(\"\\n TRANSCRIPTION:\\n\")\n",
        "        print(transcript)\n",
        "\n",
        "        if input(\"Save to .txt? (y/n): \").lower() == \"y\":\n",
        "            with open(\"transcript.txt\", \"w\", encoding=\"utf-8\") as f:\n",
        "                f.write(transcript)\n",
        "            print(\"Saved to transcript.txt\")\n",
        "\n",
        "    except Exception as e:\n",
        "        print(f\"Error: {str(e)}\")\n",
        "    finally:\n",
        "        if 'audio_path' in locals() and os.path.exists(audio_path):\n",
        "            os.remove(audio_path)\n",
        "\n",
        "if __name__ == \"__main__\":\n",
        "    main()"
      ],
      "metadata": {
        "colab": {
          "base_uri": "https://localhost:8080/"
        },
        "id": "MWbpCLRP6GaJ",
        "outputId": "dcf95602-8743-467c-a63d-db0e2390adb0"
      },
      "execution_count": 7,
      "outputs": [
        {
          "output_type": "stream",
          "name": "stdout",
          "text": [
            "YouTube URL: https://youtu.be/OVAMb6Kui6A?si=WQlDIo0INb1-vADd\n",
            "⏱️ Include timestamps? (y/n): y\n",
            "Downloading audio...\n",
            "Transcribing...\n"
          ]
        },
        {
          "output_type": "stream",
          "name": "stderr",
          "text": [
            "/usr/local/lib/python3.11/dist-packages/whisper/transcribe.py:132: UserWarning: FP16 is not supported on CPU; using FP32 instead\n",
            "  warnings.warn(\"FP16 is not supported on CPU; using FP32 instead\")\n"
          ]
        },
        {
          "output_type": "stream",
          "name": "stdout",
          "text": [
            "Detected language: English\n"
          ]
        },
        {
          "output_type": "stream",
          "name": "stderr",
          "text": [
            "100%|██████████| 82098/82098 [03:18<00:00, 412.65frames/s]\n"
          ]
        },
        {
          "name": "stdout",
          "output_type": "stream",
          "text": [
            "\n",
            " TRANSCRIPTION:\n",
            "\n",
            "[0.00-7.00] Hi, Chris Sauer. Hi, Kate Johnson. Nice to meet you. Nice to meet you, Kate. Chris, please tell me a little bit about yourself.\n",
            "[7.00-13.84] Well, I'm currently finishing my Masters of Education program at Lake Erie College and working on transitioning from a northeastern Ohio\n",
            "[13.84-26.00] winner to being a member of the Jacksonville area community. Why, why the move? Well, my wife's job is moving down south and I'm coming along with her.\n",
            "[26.00-34.00] It's very noble and admirable about you at the same time. How did you hear about the position open with our company here at RRI?\n",
            "[34.00-43.00] Well, when I thought about the opportunity of changing locations and moving from one physical location to another, I thought about making a career move as well.\n",
            "[43.00-53.00] And I was starting with my main interests and passions. And I love being outside. I love doing outdoor activities. And I love working with people.\n",
            "[53.00-62.00] And I thought if I could use my experience as a teacher, helping people, and my interest in the outdoors together, that would be a good place to start a new career.\n",
            "[62.00-69.00] And when I was looking online, I found RRI's website and that there were positions available in the Jacksonville area, so I thought I would apply.\n",
            "[69.00-80.00] Great. Well, you say you have an interest in outdoor activities. So this would be a great company for you to work at. That being said, what else do you know about our company?\n",
            "[80.00-94.00] Well, I know you've been around for a long time since the late 1930s. And what really caught my attention the most was the idea that it was started by people who had a passion for the outdoors and found a way to involve others in their experience.\n",
            "[94.00-107.00] I like the idea too that your company is consistently ranked among the top 100 companies to work for by Fortune Magazine. And I thought growing with a company that has that level of success would be a good place to be.\n",
            "[107.00-110.00] Great.\n",
            "[110.00-116.00] Why do you want this particular position here within our customer service department?\n",
            "[116.00-131.00] Because I want to start in a position that allows me to learn everything about the company from the very basic level of interacting with the customers all the way up throughout the sales process, the marketing process, and the production of goods and services.\n",
            "[131.00-140.00] When I saw the opportunity for customer service, I thought it would align very well with the skill set that I have, and also with some skills that I could bring to the company that might be with me.\n",
            "[140.00-146.00] Can you tell me a little bit more about these skills that you would transfer from your previous line of work to our department here?\n",
            "[146.00-152.00] Sure. In education, it's all about making the customer or student feel comfortable and helping them grow.\n",
            "[152.00-164.00] I feel that within a company like REI, it's the same philosophy, getting a customer comfortable with the product and helping them grow as they advance in whatever sport they have and we were participating in.\n",
            "[164.00-172.00] Why do you think that our company should hire you specifically among star pool candidates that are interviewing for this position?\n",
            "[172.00-181.00] Sure. I think one skill set that I have involves my background in education. Teachers are among the highest-stressed professionals in the workplace.\n",
            "[181.00-189.00] REI offers a number of products that help alleviate stress by getting people outdoors. Teachers also have a lot of downtime in the summers.\n",
            "[189.00-201.00] My thinking is that once I learn the ropes and advance it from the company, I'll be able to market the services and products that REI offers specifically to the teaching profession.\n",
            "[202.00-227.00] I have to ask this question. Given that you are making a career change here, especially with finishing a master's degree in education, if a position becomes available in your current field down here in the Jacksonville area, how do you approach being offered this job versus being offered a position in your field?\n",
            "[227.00-231.00] I'm asking that in the now and in the future.\n",
            "[231.00-247.00] Sure. That's a great question. I'm not pursuing further educational opportunities within that profession. I feel like this customer service opportunity, the chance to work and feel that I enjoy as much as teaching, is a place that I could grow into long term.\n",
            "[247.00-259.00] What I get out of teaching is working with people and helping people become a little bit better than they were when I first met them. That skill translates very well into REI's mission.\n",
            "[259.00-268.00] I don't anticipate leaving a successful career for something I've already done. I feel like this is a natural confluence of my two interests.\n",
            "[268.00-277.00] Chris, what would you identify as your greatest professional strengths?\n",
            "[277.00-293.00] I think patience is probably my greatest strength. That translates across the careers being able to listen to a student or customer's difficulty and help them overcome that difficulty with patience and compassion is my greatest strength.\n",
            "[294.00-299.00] Would you consider any weaknesses that you have to be detrimental to the job?\n",
            "[299.00-310.00] I think there's a risk when it comes to compassion. I think people can misinterpret compassion as being easy or willing to roll over.\n",
            "[310.00-331.00] When it's important to understand that compassion is something that is earned and it's interactive and I feel like if I establish clear boundaries with customers, clients, students, they understand that I am understanding, I am patient, I am kind, yet I'm also going to hold the people I interact with to a high standard.\n",
            "[332.00-337.00] To date, what would you say is your greatest professional achievement?\n",
            "[337.00-344.00] Personally, becoming a teacher, earning a master's degree, those have all been wonderful experiences for me.\n",
            "[344.00-354.00] But the greatest achievement would have to be working with young people and helping them get a little bit better at communicating with the world around them.\n",
            "[355.00-362.00] Chris, can you tell me about a challenge or a conflict that you've faced in the workplace and how you would deal with it?\n",
            "[362.00-373.00] Sure. Within the education profession, there are challenges every day. You're dealing with hundreds of different personalities and interests and levels of enthusiasm.\n",
            "[374.00-381.00] Being able to engage students with content in an enriching way is part of overcoming a conflict or difficulty.\n",
            "[381.00-386.00] I think building professional relationships is another way to deal with conflicts, understanding where people come from.\n",
            "[386.00-396.00] Prior to teaching, I was involved with a photography company, photographing events like weddings and bar mitzvahs and very, very important events in people's lives.\n",
            "[396.00-406.00] A lot of times, conflicts would arise. So again, just like in teaching, overcoming those conflicts with patients and listening to the client or customer's needs is very important.\n",
            "[406.00-422.00] You are interviewing for a position that is not an entry level position and there is the possibility that those in our company that were overlooked for this position may have some animosity regarding the new hire for this position.\n",
            "[422.00-426.00] How do you approach this potential challenge here at the workplace?\n",
            "[426.00-436.00] The important thing is to listen to the people around me and understand that I am a newcomer and that they know more about the work environment than I will come in.\n",
            "[436.00-451.00] I think because I have a friendly demeanor and I'm not confrontational when meeting new people that in time will have a chance to earn each other's mutual respect and understand that we both want the same thing, the company to grow and us to grow within the company.\n",
            "[451.00-455.00] Where do you see yourself in five years specifically within our company?\n",
            "[455.00-465.00] Hopefully I'll be able to develop a market that allows me to interact with people within the teaching profession and grow our brand using that market as a target client base.\n",
            "[465.00-467.00] That's great.\n",
            "[470.00-477.00] Are you interviewing currently with any other companies and if so, what interests you about those particular companies as well?\n",
            "[477.00-486.00] Since I'm new to the area, I haven't had the opportunity to interview with a wide variety of companies. I have looked at Bass Pro Shops and I'm currently scheduled to interview with them.\n",
            "[486.00-497.00] They have a similar mission and similar goals to REI. It's just that their product line is more specifically tailored than REI's more-deversed offerings.\n",
            "[498.00-516.00] We here at REI, you know, it is being in customer service. There are aspects of your job that are going to be a little less active than I could expect you being in a teaching position where I assume you're on your feet more one-on-one based of base with individuals.\n",
            "[516.00-525.00] Do you prefer a specific type of work environment? Do you thrive in a variety of work environments and what does this look like?\n",
            "[525.00-533.00] Well, I thrive in a variety of work environments. I wouldn't expect to be sitting in a cubicle interacting with customers unless I'm handling a phone call and that's fine. That's part of the job.\n",
            "[533.00-544.00] But what I would expect is to be actively engaged with the customers who come into the store and helping show them the products that might best suit their needs and introducing them to products that they might not have considered before.\n",
            "[544.00-554.00] So what I would expect to be up moving around and being consistently engaged with a customer or trying to find ways to improve what we offer to our customers.\n",
            "[555.00-566.00] Can you describe a time for me ever that you may have disagreed on a decision that was made for you and staff members at work and how did you deal with this?\n",
            "[566.00-575.00] Sure. Within the field of education, there are new initiatives being rolled out all the time. And sometimes those initiatives get mandated. You have to teach this way this many times a week.\n",
            "[575.00-585.00] And when something like that happens, I think it's important to go back to what you know about your profession or your skill set and be able to provide research that supports why you do what you do.\n",
            "[585.00-595.00] And I think when faced with the difficulty again, it's important to do what the boss says and it's important to also advocate for what might be best for the customer or student.\n",
            "[595.00-606.00] Alright, we're going to move on to some cognitive behavioral questions and basically these questions are designed.\n",
            "[606.00-617.00] They're not necessarily about your past, your experience. They're sort of out of the box questions. And so just do your best at answering them as you go through this.\n",
            "[617.00-621.00] So if you were an animal, what would you be and why?\n",
            "[621.00-632.00] That's a tough question. I think considering the traits of my dog, if I had to be an animal, I would certainly want to be a domesticated dog.\n",
            "[632.00-641.00] They just have that ability to love unconditionally. They're intensely loyal and they just provide so many benefits to people.\n",
            "[641.00-644.00] That's something I'd like to do in my life as a human too.\n",
            "[644.00-646.00] Great.\n",
            "[646.00-653.00] The next question, how many tennis balls can you fit into a limousine?\n",
            "[653.00-659.00] Kennis balls in a limousine. Well, I guess to effectively answer that question, I would need some help.\n",
            "[659.00-668.00] I would need to know what type of limousine because if we're talking about a stretch SUV, that's a much larger volume than a smaller limousine.\n",
            "[668.00-675.00] Are we talking to door four door? I also don't know what's in the limousine already. Are there people in there or is it empty?\n",
            "[675.00-687.00] Once I had those questions answered, I would have to do some calculations about the size of a tennis ball, how much area or how much volume it takes up, calculate the inside of the limousine, and then make sure the math works out.\n",
            "[687.00-691.00] I could get that answer to you. I just can't do it off the top of my head.\n",
            "[691.00-693.00] Great.\n",
            "[694.00-700.00] Let me ask this final question. Do you have any questions for us?\n",
            "[700.00-706.00] Well, I've mentioned a couple times about being interested in helping grow a market for RII.\n",
            "[706.00-716.00] I'm just curious as a new employee or someone starting out on the lower level, how open is upper management hearing the ideas of an employee?\n",
            "[716.00-724.00] We do try to have monthly meetings where we meet with a variety of employees at random.\n",
            "[724.00-732.00] These aren't things that are necessarily scheduled regularly. They're very semi-annual. They're very informal.\n",
            "[732.00-739.00] We do like to hear our employees' opinions about our products especially and about marketing.\n",
            "[739.00-752.00] One thing that we don't necessarily do is the lower level positions that are dealing maybe with collections or the intake and distribution of customer service calls.\n",
            "[752.00-760.00] We don't necessarily talk to that group of employees very often, but I'd be very interested to hear your opinions on that.\n",
            "[760.00-768.00] Should you be hired for the position and maybe ways that we can do better as well by reaching a larger group of our employees to benefit our company?\n",
            "[768.00-774.00] Okay, and the last question from me, what from your perspective is the best part about working for RII?\n",
            "[774.00-778.00] I think the work atmosphere with our company is very welcoming.\n",
            "[778.00-787.00] And even in my position and somewhat upper management, those that I work for that are above me, they're very good to our employees.\n",
            "[787.00-798.00] And I think because of the treatment of our employees, we retain employment. It's very easy for us to get things done because people want to do their jobs.\n",
            "[798.00-804.00] I have worked myself in positions where I've worked underneath people who are more tyrannical in nature.\n",
            "[804.00-810.00] And it's very difficult to want to do more and go above and beyond what you need to do in those situations.\n",
            "[810.00-815.00] So I believe that that's the number one benefit of working in our particular company is the atmosphere itself.\n",
            "[815.00-818.00] Great. Thank you so much for your time, Kate. I appreciate you so much.\n",
            "[818.00-819.00] Take care.\n",
            "Save to .txt? (y/n): n\n"
          ]
        }
      ]
    },
    {
      "cell_type": "code",
      "source": [],
      "metadata": {
        "id": "1S03Xr4o_m9p"
      },
      "execution_count": null,
      "outputs": []
    }
  ]
}